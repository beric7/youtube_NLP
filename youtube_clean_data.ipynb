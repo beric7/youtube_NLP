{
  "nbformat": 4,
  "nbformat_minor": 0,
  "metadata": {
    "colab": {
      "name": "Untitled0.ipynb",
      "provenance": []
    },
    "kernelspec": {
      "name": "python3",
      "display_name": "Python 3"
    }
  },
  "cells": [
    {
      "cell_type": "code",
      "metadata": {
        "id": "QjCXbJxZh5su"
      },
      "source": [
        "# -*- coding: utf-8 -*-\n",
        "\"\"\"\n",
        "Created on Fri Nov 20 11:13:15 2020\n",
        "@author: Eric Bianchi\n",
        "\"\"\"\n",
        "import os\n",
        "import csv\n",
        "import pandas as pd\n",
        "from youtubeAPI_5 import*\n",
        "# The CLIENT_SECRETS_FILE variable specifies the name of a file that contains\n",
        "# the OAuth 2.0 information for this application, including its client_id and\n",
        "# client_secret."
      ],
      "execution_count": null,
      "outputs": []
    },
    {
      "cell_type": "code",
      "metadata": {
        "id": "AbspEi3Hh8wV"
      },
      "source": [
        "CLIENT_SECRETS_FILE = \"client_secret.json\"\n",
        "\n",
        "# This OAuth 2.0 access scope allows for full read/write access to the\n",
        "# authenticated user's account and requires requests to use an SSL connection.\n",
        "SCOPES = ['https://www.googleapis.com/auth/youtube.force-ssl']\n",
        "API_SERVICE_NAME = 'youtube'\n",
        "API_VERSION = 'v3'"
      ],
      "execution_count": null,
      "outputs": []
    },
    {
      "cell_type": "code",
      "metadata": {
        "id": "54RyeHwRiBBS"
      },
      "source": [
        "# When running locally, disable OAuthlib's HTTPs verification. When\n",
        "# running in production *do not* leave this option enabled.\n",
        "\n",
        "# WHERE WE ARE SAVING THE OUTPUT FILE.\n",
        "save_location = 'C://Users/Eric Bianchi/Desktop/csv_files/'\n",
        "\n",
        "# Oauth\n",
        "###############\n",
        "os.environ['OAUTHLIB_INSECURE_TRANSPORT'] = '1'\n",
        "service = get_authenticated_service(save_location)\n",
        "###############"
      ],
      "execution_count": null,
      "outputs": []
    },
    {
      "cell_type": "code",
      "metadata": {
        "id": "m2z_GszXiC3D"
      },
      "source": [
        "# Save locations and parameters\n",
        "###############\n",
        "query = \"Childish Gambino - This Is America (Official Video)\"\n",
        "save_csv_t_location = save_location + query + '_time'+'.csv'\n",
        "save_csv_r_location = save_location + query + '_rel' + '.csv'\n",
        "save_csv_location = save_location + query + '.csv'\n",
        "english_comment_csv = save_location + query + '_EN.csv'\n",
        "dataset_destination = save_location + query + '_cleaned_dataset.csv'\n",
        "number = 10000\n",
        "regex = r\"^[^0-9A-Za-z'\\t\\n\\r]\"\n",
        "###############"
      ],
      "execution_count": null,
      "outputs": []
    },
    {
      "cell_type": "code",
      "metadata": {
        "id": "EWIQNFJwiG8Z"
      },
      "source": [
        "query_results = query_results(query, service)\n",
        "video_id, channel, video_title, video_desc = extract_video_details(query_results)"
      ],
      "execution_count": null,
      "outputs": []
    },
    {
      "cell_type": "code",
      "metadata": {
        "id": "SHZ1yycsiL_q"
      },
      "source": [
        "# EXTRACT TIME AND RELEVANCE RESPONSES\n",
        "extract_comments(video_id, channel, video_title, video_desc, save_csv_t_location, number, 'time', service)\n",
        "extract_comments(video_id, channel, video_title, video_desc, save_csv_r_location, number, 'relevance', service)"
      ],
      "execution_count": null,
      "outputs": []
    },
    {
      "cell_type": "code",
      "metadata": {
        "id": "v96EDKxeiPv8"
      },
      "source": [
        "csv_time = pd.read_csv(save_csv_t_location, error_bad_lines=False, encoding='utf-8-sig')\n",
        "csv_rel = pd.read_csv(save_csv_r_location, error_bad_lines=False, encoding='utf-8-sig')\n",
        "concat_df = pd.concat([csv_rel,csv_time])\n",
        "concat_df.to_csv(save_csv_location, index = False, line_terminator='\\n', encoding='utf-8-sig')"
      ],
      "execution_count": null,
      "outputs": []
    },
    {
      "cell_type": "code",
      "metadata": {
        "id": "ICu7FH8eiUf9"
      },
      "source": [
        "# ONLY ENGLISH COMMENTS\n",
        "print('only keeping english comments...')\n",
        "# english_comm = show_english_only(concat_df, save_location, english_comment_csv, query)\n",
        "# english_comm.to_csv(english_comment_csv, index = False, line_terminator='\\n', encoding='utf-8-sig')"
      ],
      "execution_count": null,
      "outputs": []
    },
    {
      "cell_type": "code",
      "metadata": {
        "id": "rHOf1I66iWVs"
      },
      "source": [
        "# DROP DUPLICATES\n",
        "print('dropping duplicates...')\n",
        "english_comm = pd.read_csv(english_comment_csv, error_bad_lines=False, encoding='utf-8-sig')\n",
        "unique_df = english_comm.drop_duplicates(subset=['Comment'])\n",
        "unique_df.to_csv(dataset_destination, index = False, line_terminator='\\n', encoding='utf-8-sig')\n",
        "###############"
      ],
      "execution_count": null,
      "outputs": []
    },
    {
      "cell_type": "code",
      "metadata": {
        "id": "JtuMTA_niZgc"
      },
      "source": [
        "df = pd.read_csv(dataset_destination, error_bad_lines=False, encoding='utf-8-sig')\n",
        "\n",
        "print('lower case comments...')\n",
        "df = to_lower_case(df, 'Comment', 'lowercase_comment')\n",
        "df, regularized_comment_list = regularize(df, 'lowercase_comment', 'regularized_comment', regex)\n",
        "\n",
        "print('lower case reply...')\n",
        "df = to_lower_case(df, 'Initial Reply', 'lowercase_reply')\n",
        "df, regularized_reply_list = regularize(df, 'lowercase_reply', 'regularized_reply', regex)"
      ],
      "execution_count": null,
      "outputs": []
    },
    {
      "cell_type": "code",
      "metadata": {
        "id": "pvebdVBhiiuG"
      },
      "source": [
        "print('histograms...')\n",
        "most_common_comments, unique_comment_word_list = most_common_histogram(df, 'regularized_comment', 50)\n",
        "plot_histogram(most_common_comments, 'Common words found in comments for Childish Gambino')\n",
        "\n",
        "most_common_replies, unique_reply_word_list = most_common_histogram(df, 'regularized_reply', 50)\n",
        "plot_histogram(most_common_replies,  'Common words found in replies for Childish Gambino')"
      ],
      "execution_count": null,
      "outputs": []
    },
    {
      "cell_type": "code",
      "metadata": {
        "id": "TGZaDbwyikkV"
      },
      "source": [
        "df.to_csv(dataset_destination, index = False, line_terminator='\\n', encoding='utf-8-sig')"
      ],
      "execution_count": null,
      "outputs": []
    }
  ]
}